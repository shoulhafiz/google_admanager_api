{
 "cells": [
  {
   "cell_type": "code",
   "execution_count": 129,
   "metadata": {
    "collapsed": true
   },
   "outputs": [],
   "source": [
    "# Import the library.\n",
    "# Import the library.\n",
    "from googleads import ad_manager\n",
    "from datetime import date,datetime\n",
    "import tempfile\n",
    "import gzip\n",
    "import pandas as pd\n",
    "import os\n",
    "from google.cloud import bigquery\n",
    "from google.oauth2 import service_account\n",
    "import config\n"
   ]
  },
  {
   "cell_type": "code",
   "execution_count": 130,
   "outputs": [
    {
     "name": "stdout",
     "output_type": "stream",
     "text": [
      "Current network has network code '1009103' and display name 'NSTP e-Media Sdn Bhd'.\n"
     ]
    }
   ],
   "source": [
    "# Initialize a client object, by default uses the credentials in ~/googleads.yaml.\n",
    "client = ad_manager.AdManagerClient.LoadFromStorage()\n",
    "\n",
    "# Initialize a service.\n",
    "network_service = client.GetService('NetworkService', version='v202202')\n",
    "\n",
    "# Make a request.\n",
    "current_network = network_service.getCurrentNetwork()\n",
    "\n",
    "print(\"Current network has network code '%s' and display name '%s'.\" %\n",
    "      (current_network['networkCode'], current_network['displayName']))"
   ],
   "metadata": {
    "collapsed": false,
    "pycharm": {
     "name": "#%%\n"
    }
   }
  },
  {
   "cell_type": "code",
   "execution_count": 131,
   "outputs": [],
   "source": [
    "BQ_KEY_LOCATION = config.BQ_KEY_LOCATION\n",
    "credentials = service_account.Credentials.from_service_account_file(BQ_KEY_LOCATION)\n",
    "\n",
    "client_mpd = bigquery.Client(credentials = credentials, project = \"mpdbq1\", location = \"US\")"
   ],
   "metadata": {
    "collapsed": false,
    "pycharm": {
     "name": "#%%\n"
    }
   }
  },
  {
   "cell_type": "code",
   "execution_count": 169,
   "outputs": [
    {
     "name": "stdout",
     "output_type": "stream",
     "text": [
      "Report job with id 12904252710 downloaded to: \n",
      "/var/folders/qd/zcfrhx7x6wv1klr64f0qnc7h0000gn/T/tmpq8f0csba.csv\n"
     ]
    }
   ],
   "source": [
    "from googleads import errors\n",
    "\n",
    "#def get_report():\n",
    "    # statement = (ad_manager.StatementBuilder(version='v202202')\n",
    "    # \t\t\t.Where('id = :id')\n",
    "    # \t\t\t.WithBindVariable('id', int(10))\n",
    "    # \t\t\t.Limit(None)\n",
    "    # \t\t\t.Offset(None))\n",
    "\n",
    "end_date = datetime.now().date()\n",
    "start_date = date(date.today().year, 1, 1)\n",
    "\n",
    "report_job = {\n",
    "    'reportQuery': {\n",
    "        'dimensions': ['WEEK', 'DEVICE_CATEGORY_NAME', 'DEVICE_CATEGORY_ID', \"LINE_ITEM_TYPE\",'LINE_ITEM_NAME','LINE_ITEM_ID', 'PARENT_AD_UNIT_ID',\n",
    "                       'AD_UNIT_NAME', 'AD_UNIT_ID'],\n",
    "        'columns': ['TOTAL_LINE_ITEM_LEVEL_IMPRESSIONS', 'TOTAL_LINE_ITEM_LEVEL_CLICKS',\n",
    "                    'TOTAL_LINE_ITEM_LEVEL_ALL_REVENUE'],\n",
    "        'dateRangeType': 'CUSTOM_DATE',\n",
    "        'startDate': start_date,\n",
    "        'endDate': end_date\n",
    "    }\n",
    "}\n",
    "\n",
    "report_downloader = client.GetDataDownloader(version='v202202')\n",
    "\n",
    "try:\n",
    "    report_job_id = report_downloader.WaitForReport(report_job)\n",
    "except errors.AdManagerReportError as e:\n",
    "    print(f'Failed to generate report. Error was: {e}')\n",
    "\n",
    "export_format = 'CSV_DUMP'\n",
    "\n",
    "report_file = tempfile.NamedTemporaryFile(suffix='.csv',delete=False)\n",
    "\n",
    "report_downloader.DownloadReportToFile(\n",
    "        report_job_id, export_format, report_file)\n",
    "\n",
    "report_file.close()\n",
    "\n",
    "print(f'Report job with id {report_job_id} downloaded to: \\n{report_file.name}')\n",
    "\n",
    "with open(report_file.name,'rb') as report:\n",
    "        temp = gzip.GzipFile(fileobj=report)\n",
    "        df = pd.read_csv(temp, sep=',')"
   ],
   "metadata": {
    "collapsed": false,
    "pycharm": {
     "name": "#%%\n"
    }
   }
  },
  {
   "cell_type": "code",
   "execution_count": 171,
   "outputs": [
    {
     "name": "stdout",
     "output_type": "stream",
     "text": [
      "<class 'pandas.core.frame.DataFrame'>\n",
      "RangeIndex: 467466 entries, 0 to 467465\n",
      "Data columns (total 12 columns):\n",
      " #   Column                                    Non-Null Count   Dtype \n",
      "---  ------                                    --------------   ----- \n",
      " 0   Dimension.WEEK                            467466 non-null  object\n",
      " 1   Dimension.DEVICE_CATEGORY_NAME            467466 non-null  object\n",
      " 2   Dimension.DEVICE_CATEGORY_ID              467466 non-null  int64 \n",
      " 3   Dimension.LINE_ITEM_TYPE                  467466 non-null  object\n",
      " 4   Dimension.LINE_ITEM_NAME                  467466 non-null  object\n",
      " 5   Dimension.LINE_ITEM_ID                    467466 non-null  int64 \n",
      " 6   Dimension.PARENT_AD_UNIT_ID               467466 non-null  object\n",
      " 7   Dimension.AD_UNIT_NAME                    467466 non-null  object\n",
      " 8   Dimension.AD_UNIT_ID                      467466 non-null  int64 \n",
      " 9   Column.TOTAL_LINE_ITEM_LEVEL_IMPRESSIONS  467466 non-null  int64 \n",
      " 10  Column.TOTAL_LINE_ITEM_LEVEL_CLICKS       467466 non-null  int64 \n",
      " 11  Column.TOTAL_LINE_ITEM_LEVEL_ALL_REVENUE  467466 non-null  int64 \n",
      "dtypes: int64(6), object(6)\n",
      "memory usage: 42.8+ MB\n"
     ]
    },
    {
     "data": {
      "text/plain": "(Index(['Dimension.WEEK', 'Dimension.DEVICE_CATEGORY_NAME',\n        'Dimension.DEVICE_CATEGORY_ID', 'Dimension.LINE_ITEM_TYPE',\n        'Dimension.LINE_ITEM_NAME', 'Dimension.LINE_ITEM_ID',\n        'Dimension.PARENT_AD_UNIT_ID', 'Dimension.AD_UNIT_NAME',\n        'Dimension.AD_UNIT_ID', 'Column.TOTAL_LINE_ITEM_LEVEL_IMPRESSIONS',\n        'Column.TOTAL_LINE_ITEM_LEVEL_CLICKS',\n        'Column.TOTAL_LINE_ITEM_LEVEL_ALL_REVENUE'],\n       dtype='object'),\n None)"
     },
     "execution_count": 171,
     "metadata": {},
     "output_type": "execute_result"
    }
   ],
   "source": [
    "df.columns, df.info()"
   ],
   "metadata": {
    "collapsed": false,
    "pycharm": {
     "name": "#%%\n"
    }
   }
  },
  {
   "cell_type": "code",
   "execution_count": 159,
   "outputs": [],
   "source": [
    "# df= df.replace(',','')\n",
    "df.replace(',','', regex=True, inplace=True)"
   ],
   "metadata": {
    "collapsed": false,
    "pycharm": {
     "name": "#%%\n"
    }
   }
  },
  {
   "cell_type": "code",
   "execution_count": 161,
   "outputs": [],
   "source": [
    "parent_ad_unit_list=['183717733', '22235807415', '21676101156', '21872721896', '21872873235']"
   ],
   "metadata": {
    "collapsed": false,
    "pycharm": {
     "name": "#%%\n"
    }
   }
  },
  {
   "cell_type": "code",
   "execution_count": 165,
   "outputs": [],
   "source": [
    "df = df[df['Dimension.LINE_ITEM_NAME'].str.contains('tonton', case=False, na=False) & df['Dimension.PARENT_AD_UNIT_ID'].isin(parent_ad_unit_list)]"
   ],
   "metadata": {
    "collapsed": false,
    "pycharm": {
     "name": "#%%\n"
    }
   }
  },
  {
   "cell_type": "code",
   "execution_count": 176,
   "outputs": [],
   "source": [
    "df = df.assign(REVENUE = lambda x: round((x['Column.TOTAL_LINE_ITEM_LEVEL_ALL_REVENUE'] /1000000),2))"
   ],
   "metadata": {
    "collapsed": false,
    "pycharm": {
     "name": "#%%\n"
    }
   }
  },
  {
   "cell_type": "code",
   "execution_count": 186,
   "outputs": [],
   "source": [
    "# df[['Column.TOTAL_LINE_ITEM_LEVEL_ALL_REVENUE','REVENUE']]\n",
    "df.drop(['Column.TOTAL_LINE_ITEM_LEVEL_ALL_REVENUE'], axis=1, inplace=True)"
   ],
   "metadata": {
    "collapsed": false,
    "pycharm": {
     "name": "#%%\n"
    }
   }
  },
  {
   "cell_type": "code",
   "execution_count": 184,
   "outputs": [],
   "source": [
    "df.rename(columns={\"Dimension.WEEK\":\"WEEK\",\"Dimension.DEVICE_CATEGORY_NAME\":\"DEVICE_CATEGORY_NAME\",\"Dimension.DEVICE_CATEGORY_ID\":\"DEVICE_CATEGORY_ID\", \"Dimension.LINE_ITEM_TYPE\":\"LINE_ITEM_TYPE\",\"Dimension.LINE_ITEM_NAME\":\"LINE_ITEM_NAME\",\"Dimension.LINE_ITEM_ID\":\"LINE_ITEM_ID\",\"Dimension.PARENT_AD_UNIT_ID\":\"PARENT_AD_UNIT_ID\",\"Dimension.AD_UNIT_NAME\":\"AD_UNIT_NAME\",\"Dimension.AD_UNIT_ID\":\"AD_UNIT_ID\",\n",
    "                   \"Column.TOTAL_LINE_ITEM_LEVEL_IMPRESSIONS\":\"TOTAL_LINE_ITEM_LEVEL_IMPRESSIONS\",\"Column.TOTAL_LINE_ITEM_LEVEL_CLICKS\":\"TOTAL_LINE_ITEM_LEVEL_CLICKS\"}, inplace=True)"
   ],
   "metadata": {
    "collapsed": false,
    "pycharm": {
     "name": "#%%\n"
    }
   }
  },
  {
   "cell_type": "code",
   "execution_count": 167,
   "outputs": [
    {
     "data": {
      "text/plain": "                         WEEK DEVICE_CATEGORY_NAME  DEVICE_CATEGORY_ID  \\\n3184    2021-12-26/2022-01-01              Desktop               30000   \n3185    2021-12-26/2022-01-01              Desktop               30000   \n8245    2021-12-26/2022-01-01           Smartphone               30001   \n8248    2021-12-26/2022-01-01           Smartphone               30001   \n8249    2021-12-26/2022-01-01           Smartphone               30001   \n...                       ...                  ...                 ...   \n466703  2022-05-15/2022-05-21               Tablet               30002   \n467300  2022-05-15/2022-05-21         Connected TV               30004   \n467301  2022-05-15/2022-05-21         Connected TV               30004   \n467303  2022-05-15/2022-05-21         Connected TV               30004   \n467304  2022-05-15/2022-05-21         Connected TV               30004   \n\n       LINE_ITEM_TYPE           LINE_ITEM_NAME  LINE_ITEM_ID  \\\n3184      AD_EXCHANGE  Tonton Extra_Tonton_MGO     664145893   \n3185      AD_EXCHANGE  Tonton Extra_Tonton_MGO     664145893   \n8245      AD_EXCHANGE  Tonton Extra_Tonton_MGO     664145893   \n8248      AD_EXCHANGE  Tonton Extra_Tonton_MGO     664145893   \n8249      AD_EXCHANGE  Tonton Extra_Tonton_MGO     664145893   \n...               ...                      ...           ...   \n466703    AD_EXCHANGE  Tonton Extra_Tonton_MGO     664145893   \n467300    AD_EXCHANGE  Tonton Extra_Tonton_MGO     664145893   \n467301    AD_EXCHANGE  Tonton Extra_Tonton_MGO     664145893   \n467303    AD_EXCHANGE  Tonton Extra_Tonton_MGO     664145893   \n467304    AD_EXCHANGE  Tonton Extra_Tonton_MGO     664145893   \n\n       PARENT_AD_UNIT_ID      AD_UNIT_NAME   AD_UNIT_ID  \\\n3184           183717733     Tonton_728x90    183717733   \n3185         21676101156    Tonton_300x250  21676101156   \n8245         21676101156    Tonton_300x250  21676101156   \n8248         21872721896  Tonton_300x250_a  21872721896   \n8249         21872873235     Tonton_320x50  21872873235   \n...                  ...               ...          ...   \n466703       21872873235     Tonton_320x50  21872873235   \n467300         183717733     Tonton_728x90    183717733   \n467301       21676101156    Tonton_300x250  21676101156   \n467303       21872721896  Tonton_300x250_a  21872721896   \n467304       21872873235     Tonton_320x50  21872873235   \n\n        TOTAL_LINE_ITEM_LEVEL_IMPRESSIONS  TOTAL_LINE_ITEM_LEVEL_CLICKS  \\\n3184                                 2062                             0   \n3185                                  174                             0   \n8245                                 4912                            19   \n8248                                 3972                             1   \n8249                                 4945                            24   \n...                                   ...                           ...   \n466703                                261                             1   \n467300                               1838                             1   \n467301                                300                             0   \n467303                                141                             0   \n467304                                308                             2   \n\n        TOTAL_LINE_ITEM_LEVEL_ALL_REVENUE  \n3184                              1906485  \n3185                               126054  \n8245                              5805721  \n8248                              1559321  \n8249                              7248177  \n...                                   ...  \n466703                             170747  \n467300                             351754  \n467301                              36107  \n467303                              11696  \n467304                             132132  \n\n[403 rows x 12 columns]",
      "text/html": "<div>\n<style scoped>\n    .dataframe tbody tr th:only-of-type {\n        vertical-align: middle;\n    }\n\n    .dataframe tbody tr th {\n        vertical-align: top;\n    }\n\n    .dataframe thead th {\n        text-align: right;\n    }\n</style>\n<table border=\"1\" class=\"dataframe\">\n  <thead>\n    <tr style=\"text-align: right;\">\n      <th></th>\n      <th>WEEK</th>\n      <th>DEVICE_CATEGORY_NAME</th>\n      <th>DEVICE_CATEGORY_ID</th>\n      <th>LINE_ITEM_TYPE</th>\n      <th>LINE_ITEM_NAME</th>\n      <th>LINE_ITEM_ID</th>\n      <th>PARENT_AD_UNIT_ID</th>\n      <th>AD_UNIT_NAME</th>\n      <th>AD_UNIT_ID</th>\n      <th>TOTAL_LINE_ITEM_LEVEL_IMPRESSIONS</th>\n      <th>TOTAL_LINE_ITEM_LEVEL_CLICKS</th>\n      <th>TOTAL_LINE_ITEM_LEVEL_ALL_REVENUE</th>\n    </tr>\n  </thead>\n  <tbody>\n    <tr>\n      <th>3184</th>\n      <td>2021-12-26/2022-01-01</td>\n      <td>Desktop</td>\n      <td>30000</td>\n      <td>AD_EXCHANGE</td>\n      <td>Tonton Extra_Tonton_MGO</td>\n      <td>664145893</td>\n      <td>183717733</td>\n      <td>Tonton_728x90</td>\n      <td>183717733</td>\n      <td>2062</td>\n      <td>0</td>\n      <td>1906485</td>\n    </tr>\n    <tr>\n      <th>3185</th>\n      <td>2021-12-26/2022-01-01</td>\n      <td>Desktop</td>\n      <td>30000</td>\n      <td>AD_EXCHANGE</td>\n      <td>Tonton Extra_Tonton_MGO</td>\n      <td>664145893</td>\n      <td>21676101156</td>\n      <td>Tonton_300x250</td>\n      <td>21676101156</td>\n      <td>174</td>\n      <td>0</td>\n      <td>126054</td>\n    </tr>\n    <tr>\n      <th>8245</th>\n      <td>2021-12-26/2022-01-01</td>\n      <td>Smartphone</td>\n      <td>30001</td>\n      <td>AD_EXCHANGE</td>\n      <td>Tonton Extra_Tonton_MGO</td>\n      <td>664145893</td>\n      <td>21676101156</td>\n      <td>Tonton_300x250</td>\n      <td>21676101156</td>\n      <td>4912</td>\n      <td>19</td>\n      <td>5805721</td>\n    </tr>\n    <tr>\n      <th>8248</th>\n      <td>2021-12-26/2022-01-01</td>\n      <td>Smartphone</td>\n      <td>30001</td>\n      <td>AD_EXCHANGE</td>\n      <td>Tonton Extra_Tonton_MGO</td>\n      <td>664145893</td>\n      <td>21872721896</td>\n      <td>Tonton_300x250_a</td>\n      <td>21872721896</td>\n      <td>3972</td>\n      <td>1</td>\n      <td>1559321</td>\n    </tr>\n    <tr>\n      <th>8249</th>\n      <td>2021-12-26/2022-01-01</td>\n      <td>Smartphone</td>\n      <td>30001</td>\n      <td>AD_EXCHANGE</td>\n      <td>Tonton Extra_Tonton_MGO</td>\n      <td>664145893</td>\n      <td>21872873235</td>\n      <td>Tonton_320x50</td>\n      <td>21872873235</td>\n      <td>4945</td>\n      <td>24</td>\n      <td>7248177</td>\n    </tr>\n    <tr>\n      <th>...</th>\n      <td>...</td>\n      <td>...</td>\n      <td>...</td>\n      <td>...</td>\n      <td>...</td>\n      <td>...</td>\n      <td>...</td>\n      <td>...</td>\n      <td>...</td>\n      <td>...</td>\n      <td>...</td>\n      <td>...</td>\n    </tr>\n    <tr>\n      <th>466703</th>\n      <td>2022-05-15/2022-05-21</td>\n      <td>Tablet</td>\n      <td>30002</td>\n      <td>AD_EXCHANGE</td>\n      <td>Tonton Extra_Tonton_MGO</td>\n      <td>664145893</td>\n      <td>21872873235</td>\n      <td>Tonton_320x50</td>\n      <td>21872873235</td>\n      <td>261</td>\n      <td>1</td>\n      <td>170747</td>\n    </tr>\n    <tr>\n      <th>467300</th>\n      <td>2022-05-15/2022-05-21</td>\n      <td>Connected TV</td>\n      <td>30004</td>\n      <td>AD_EXCHANGE</td>\n      <td>Tonton Extra_Tonton_MGO</td>\n      <td>664145893</td>\n      <td>183717733</td>\n      <td>Tonton_728x90</td>\n      <td>183717733</td>\n      <td>1838</td>\n      <td>1</td>\n      <td>351754</td>\n    </tr>\n    <tr>\n      <th>467301</th>\n      <td>2022-05-15/2022-05-21</td>\n      <td>Connected TV</td>\n      <td>30004</td>\n      <td>AD_EXCHANGE</td>\n      <td>Tonton Extra_Tonton_MGO</td>\n      <td>664145893</td>\n      <td>21676101156</td>\n      <td>Tonton_300x250</td>\n      <td>21676101156</td>\n      <td>300</td>\n      <td>0</td>\n      <td>36107</td>\n    </tr>\n    <tr>\n      <th>467303</th>\n      <td>2022-05-15/2022-05-21</td>\n      <td>Connected TV</td>\n      <td>30004</td>\n      <td>AD_EXCHANGE</td>\n      <td>Tonton Extra_Tonton_MGO</td>\n      <td>664145893</td>\n      <td>21872721896</td>\n      <td>Tonton_300x250_a</td>\n      <td>21872721896</td>\n      <td>141</td>\n      <td>0</td>\n      <td>11696</td>\n    </tr>\n    <tr>\n      <th>467304</th>\n      <td>2022-05-15/2022-05-21</td>\n      <td>Connected TV</td>\n      <td>30004</td>\n      <td>AD_EXCHANGE</td>\n      <td>Tonton Extra_Tonton_MGO</td>\n      <td>664145893</td>\n      <td>21872873235</td>\n      <td>Tonton_320x50</td>\n      <td>21872873235</td>\n      <td>308</td>\n      <td>2</td>\n      <td>132132</td>\n    </tr>\n  </tbody>\n</table>\n<p>403 rows × 12 columns</p>\n</div>"
     },
     "execution_count": 167,
     "metadata": {},
     "output_type": "execute_result"
    }
   ],
   "source": [
    "# df[df['AD_UNIT_ID']=='21764206526']\n",
    "df.columns"
   ],
   "metadata": {
    "collapsed": false,
    "pycharm": {
     "name": "#%%\n"
    }
   }
  },
  {
   "cell_type": "code",
   "execution_count": 187,
   "outputs": [
    {
     "name": "stdout",
     "output_type": "stream",
     "text": [
      "<class 'pandas.core.frame.DataFrame'>\n",
      "RangeIndex: 467466 entries, 0 to 467465\n",
      "Data columns (total 12 columns):\n",
      " #   Column                             Non-Null Count   Dtype  \n",
      "---  ------                             --------------   -----  \n",
      " 0   WEEK                               467466 non-null  object \n",
      " 1   DEVICE_CATEGORY_NAME               467466 non-null  object \n",
      " 2   DEVICE_CATEGORY_ID                 467466 non-null  int64  \n",
      " 3   LINE_ITEM_TYPE                     467466 non-null  object \n",
      " 4   LINE_ITEM_NAME                     467466 non-null  object \n",
      " 5   LINE_ITEM_ID                       467466 non-null  int64  \n",
      " 6   PARENT_AD_UNIT_ID                  467466 non-null  object \n",
      " 7   AD_UNIT_NAME                       467466 non-null  object \n",
      " 8   AD_UNIT_ID                         467466 non-null  int64  \n",
      " 9   TOTAL_LINE_ITEM_LEVEL_IMPRESSIONS  467466 non-null  int64  \n",
      " 10  TOTAL_LINE_ITEM_LEVEL_CLICKS       467466 non-null  int64  \n",
      " 11  REVENUE                            467466 non-null  float64\n",
      "dtypes: float64(1), int64(5), object(6)\n",
      "memory usage: 42.8+ MB\n"
     ]
    },
    {
     "data": {
      "text/plain": "(Index(['WEEK', 'DEVICE_CATEGORY_NAME', 'DEVICE_CATEGORY_ID', 'LINE_ITEM_TYPE',\n        'LINE_ITEM_NAME', 'LINE_ITEM_ID', 'PARENT_AD_UNIT_ID', 'AD_UNIT_NAME',\n        'AD_UNIT_ID', 'TOTAL_LINE_ITEM_LEVEL_IMPRESSIONS',\n        'TOTAL_LINE_ITEM_LEVEL_CLICKS', 'REVENUE'],\n       dtype='object'),\n None)"
     },
     "execution_count": 187,
     "metadata": {},
     "output_type": "execute_result"
    }
   ],
   "source": [
    "df.columns, df.info()"
   ],
   "metadata": {
    "collapsed": false,
    "pycharm": {
     "name": "#%%\n"
    }
   }
  },
  {
   "cell_type": "code",
   "execution_count": 140,
   "outputs": [],
   "source": [
    "    #name of table and its schema\n",
    "table_id = \"admanager.Display_ads_Inventory_Device_Category_Week\"\n",
    "job_config = bigquery.LoadJobConfig()\n",
    "job_config.schema = [\n",
    "    bigquery.SchemaField(\"WEEK\",\"STRING\"),\n",
    "    bigquery.SchemaField(\"DEVICE_CATEGORY_NAME\",\"STRING\"),\n",
    "    bigquery.SchemaField(\"DEVICE_CATEGORY_ID\",\"INTEGER\"),\n",
    "    bigquery.SchemaField(\"LINE_ITEM_NAME\",\"STRING\"),\n",
    "    bigquery.SchemaField(\"LINE_ITEM_ID\",\"INTEGER\"),\n",
    "    bigquery.SchemaField(\"PARENT_AD_UNIT_ID\",\"STRING\"),\n",
    "    bigquery.SchemaField(\"AD_UNIT_NAME\",\"STRING\"),\n",
    "    bigquery.SchemaField(\"AD_UNIT_ID\",\"INTEGER\"),\n",
    "    bigquery.SchemaField(\"TOTAL_LINE_ITEM_LEVEL_IMPRESSIONS\",\"INTEGER\"),\n",
    "    bigquery.SchemaField(\"TOTAL_LINE_ITEM_LEVEL_CLICKS\",\"INTEGER\"),\n",
    "    bigquery.SchemaField(\"REVENUE\",\"FLOAT\")]"
   ],
   "metadata": {
    "collapsed": false,
    "pycharm": {
     "name": "#%%\n"
    }
   }
  },
  {
   "cell_type": "code",
   "execution_count": 141,
   "outputs": [
    {
     "data": {
      "text/plain": "LoadJob<project=mpdbq1, location=US, id=18cde2e9-7fc7-452f-acd4-c94817dc3579>"
     },
     "execution_count": 141,
     "metadata": {},
     "output_type": "execute_result"
    }
   ],
   "source": [
    "job = client_mpd.load_table_from_dataframe(\n",
    "df, table_id, job_config=job_config)\n",
    "job.result()"
   ],
   "metadata": {
    "collapsed": false,
    "pycharm": {
     "name": "#%%\n"
    }
   }
  },
  {
   "cell_type": "code",
   "execution_count": 142,
   "outputs": [
    {
     "data": {
      "text/plain": "datetime.datetime(2022, 5, 18, 13, 6, 57, 662881)"
     },
     "execution_count": 142,
     "metadata": {},
     "output_type": "execute_result"
    }
   ],
   "source": [
    "datetime.now()"
   ],
   "metadata": {
    "collapsed": false,
    "pycharm": {
     "name": "#%%\n"
    }
   }
  },
  {
   "cell_type": "code",
   "execution_count": 142,
   "outputs": [],
   "source": [],
   "metadata": {
    "collapsed": false,
    "pycharm": {
     "name": "#%%\n"
    }
   }
  }
 ],
 "metadata": {
  "kernelspec": {
   "display_name": "Python 3",
   "language": "python",
   "name": "python3"
  },
  "language_info": {
   "codemirror_mode": {
    "name": "ipython",
    "version": 2
   },
   "file_extension": ".py",
   "mimetype": "text/x-python",
   "name": "python",
   "nbconvert_exporter": "python",
   "pygments_lexer": "ipython2",
   "version": "2.7.6"
  }
 },
 "nbformat": 4,
 "nbformat_minor": 0
}